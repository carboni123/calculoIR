{
 "cells": [
  {
   "cell_type": "code",
   "execution_count": 1,
   "metadata": {},
   "outputs": [],
   "source": [
    "import pandas as pd\n",
    "import investpy\n",
    "import bs4\n",
    "from bs4 import BeautifulSoup\n",
    "import requests\n",
    "import json\n",
    "\n",
    "#get Investing.com tickers and generate .csv with all listed tickers\n",
    "\n",
    "# stonks= investpy.get_stocks(country=\"Brazil\")\n",
    "# stonks.to_csv('investpyDict.csv', index= False)\n",
    "\n",
    "#get Investing.com data from previously created file\n",
    "stonks= pd.read_csv('investpyDict.csv')"
   ]
  },
  {
   "cell_type": "code",
   "execution_count": 2,
   "metadata": {},
   "outputs": [
    {
     "data": {
      "text/html": [
       "<div>\n",
       "<style scoped>\n",
       "    .dataframe tbody tr th:only-of-type {\n",
       "        vertical-align: middle;\n",
       "    }\n",
       "\n",
       "    .dataframe tbody tr th {\n",
       "        vertical-align: top;\n",
       "    }\n",
       "\n",
       "    .dataframe thead th {\n",
       "        text-align: right;\n",
       "    }\n",
       "</style>\n",
       "<table border=\"1\" class=\"dataframe\">\n",
       "  <thead>\n",
       "    <tr style=\"text-align: right;\">\n",
       "      <th></th>\n",
       "      <th>country</th>\n",
       "      <th>name</th>\n",
       "      <th>full_name</th>\n",
       "      <th>isin</th>\n",
       "      <th>currency</th>\n",
       "      <th>symbol</th>\n",
       "    </tr>\n",
       "  </thead>\n",
       "  <tbody>\n",
       "    <tr>\n",
       "      <th>0</th>\n",
       "      <td>brazil</td>\n",
       "      <td>ABC BRASIL PN</td>\n",
       "      <td>Banco ABC Brasil SA</td>\n",
       "      <td>BRABCBACNPR4</td>\n",
       "      <td>BRL</td>\n",
       "      <td>ABCB4</td>\n",
       "    </tr>\n",
       "    <tr>\n",
       "      <th>1</th>\n",
       "      <td>brazil</td>\n",
       "      <td>BRASILAGRO ON</td>\n",
       "      <td>BrasilAgro - Co ON NM</td>\n",
       "      <td>BRAGROACNOR7</td>\n",
       "      <td>BRL</td>\n",
       "      <td>AGRO3</td>\n",
       "    </tr>\n",
       "    <tr>\n",
       "      <th>2</th>\n",
       "      <td>brazil</td>\n",
       "      <td>RUMO ON NM</td>\n",
       "      <td>RUMO Logistica Operadora Multimodal SA</td>\n",
       "      <td>BRRAILACNOR9</td>\n",
       "      <td>BRL</td>\n",
       "      <td>RAIL3</td>\n",
       "    </tr>\n",
       "    <tr>\n",
       "      <th>3</th>\n",
       "      <td>brazil</td>\n",
       "      <td>ALPARGATAS ON</td>\n",
       "      <td>Alpargatas SA</td>\n",
       "      <td>BRALPAACNOR0</td>\n",
       "      <td>BRL</td>\n",
       "      <td>ALPA3</td>\n",
       "    </tr>\n",
       "    <tr>\n",
       "      <th>4</th>\n",
       "      <td>brazil</td>\n",
       "      <td>ALPARGATAS PN</td>\n",
       "      <td>Alpargatas SA</td>\n",
       "      <td>BRALPAACNPR7</td>\n",
       "      <td>BRL</td>\n",
       "      <td>ALPA4</td>\n",
       "    </tr>\n",
       "  </tbody>\n",
       "</table>\n",
       "</div>"
      ],
      "text/plain": [
       "  country           name                               full_name  \\\n",
       "0  brazil  ABC BRASIL PN                     Banco ABC Brasil SA   \n",
       "1  brazil  BRASILAGRO ON                   BrasilAgro - Co ON NM   \n",
       "2  brazil     RUMO ON NM  RUMO Logistica Operadora Multimodal SA   \n",
       "3  brazil  ALPARGATAS ON                           Alpargatas SA   \n",
       "4  brazil  ALPARGATAS PN                           Alpargatas SA   \n",
       "\n",
       "           isin currency symbol  \n",
       "0  BRABCBACNPR4      BRL  ABCB4  \n",
       "1  BRAGROACNOR7      BRL  AGRO3  \n",
       "2  BRRAILACNOR9      BRL  RAIL3  \n",
       "3  BRALPAACNOR0      BRL  ALPA3  \n",
       "4  BRALPAACNPR7      BRL  ALPA4  "
      ]
     },
     "execution_count": 2,
     "metadata": {},
     "output_type": "execute_result"
    }
   ],
   "source": [
    "stonks.head()"
   ]
  },
  {
   "cell_type": "code",
   "execution_count": 13,
   "metadata": {},
   "outputs": [],
   "source": [
    "#create function to get stock name from TradingView\n",
    "def get_stock_name(ticker, exchange= 'BMFBOVESPA'):\n",
    "    site= 'https://www.tradingview.com/symbols/' + exchange + '-' + ticker\n",
    "    response = requests.get(site)\n",
    "    soup= BeautifulSoup(response.text, 'lxml')\n",
    "    jdscript_info= json.loads(\"\".join(soup.find_all(\"script\", {\"type\":\"application/ld+json\"})[-1].contents))\n",
    "    if jdscript_info['name'] == 'TradingView':\n",
    "        raise Exception('InputError: wrong ticker or exchange')\n",
    "    else:\n",
    "        return jdscript_info['name']\n",
    "\n",
    "# get_stock_name('TSLA', 'BAWSAQ')"
   ]
  },
  {
   "cell_type": "code",
   "execution_count": 14,
   "metadata": {},
   "outputs": [
    {
     "name": "stdout",
     "output_type": "stream",
     "text": [
      "Could not get data for BPHA3\n",
      "Could not get data for CAMB4\n",
      "Could not get data for LIQO3\n",
      "Could not get data for ELEK4\n",
      "Could not get data for IDNT3\n",
      "Could not get data for NATU3\n",
      "Could not get data for PCAR4\n",
      "Could not get data for TIMP3\n",
      "Could not get data for TRPN3\n",
      "Could not get data for VIVT4\n",
      "Could not get data for ELPL3\n",
      "Could not get data for CCXC3\n",
      "Could not get data for CPRE3\n",
      "Could not get data for BBVJ11\n",
      "Could not get data for FIXX11\n",
      "Could not get data for RBCB11\n",
      "Could not get data for RDES11\n",
      "Could not get data for SAAG11\n",
      "Could not get data for TRXL11\n",
      "Could not get data for SEDU3\n",
      "Could not get data for TOYB3\n",
      "Could not get data for AVON34\n",
      "Could not get data for TIFF34\n",
      "Could not get data for UTEC34\n",
      "Could not get data for DOMC11\n",
      "Could not get data for ABCB10\n",
      "Could not get data for ANIM3T\n",
      "Could not get data for CELP3\n",
      "Could not get data for CELP5\n",
      "Could not get data for CPRE3T\n",
      "Could not get data for CVCB3T\n",
      "Could not get data for ELEK3\n",
      "Could not get data for MEND5\n",
      "Could not get data for DMMO3T\n",
      "Could not get data for RANI4\n",
      "Could not get data for SEER3T\n",
      "Could not get data for SMLS3T\n",
      "Could not get data for SPRI3\n",
      "Could not get data for TOYB4\n",
      "Could not get data for ATSA11B\n",
      "Could not get data for BMLC11B\n",
      "Could not get data for CPTS11B\n",
      "Could not get data for ENMA3B\n",
      "Could not get data for FVBI11\n",
      "Could not get data for WPLZ11B\n",
      "Could not get data for CHKE34\n",
      "Could not get data for JCPC34\n",
      "Could not get data for SANC34\n",
      "Could not get data for SPRN34\n",
      "Could not get data for POMO10\n",
      "Could not get data for GBIO33\n",
      "Could not get data for CLGN34\n",
      "Could not get data for GFSA1\n",
      "Could not get data for FOFT11\n",
      "Could not get data for BIDI4T\n",
      "Could not get data for TASA13\n",
      "Could not get data for TASA15\n",
      "Could not get data for TASA17\n",
      "Could not get data for DMMO11\n",
      "Could not get data for ITEC3\n",
      "Could not get data for CELP6\n",
      "Could not get data for CELP7\n",
      "Could not get data for MEND6\n",
      "Could not get data for BEEF11\n",
      "Could not get data for JBDU1\n",
      "Could not get data for JBDU2\n",
      "Could not get data for LOGN12\n",
      "Could not get data for MYPK12\n",
      "Could not get data for VAMO3\n",
      "Could not get data for CAMB10\n",
      "Could not get data for IDVL9\n",
      "Could not get data for TFOF11\n",
      "Could not get data for TIET2\n",
      "Could not get data for HBTT11\n",
      "Could not get data for OULG11B\n",
      "Could not get data for TCR11\n",
      "Could not get data for YCHY11\n",
      "Could not get data for BMGB11\n",
      "Could not get data for SDIP11\n"
     ]
    }
   ],
   "source": [
    "tickername= []\n",
    "for ticker in stonks.symbol:\n",
    "#     print(ticker)\n",
    "    try:\n",
    "        tickername.append(get_stock_name(ticker))\n",
    "    except:\n",
    "        tickername.append('_')\n",
    "        print(f'Could not get data for {ticker}')"
   ]
  },
  {
   "cell_type": "code",
   "execution_count": 3,
   "metadata": {},
   "outputs": [
    {
     "ename": "NameError",
     "evalue": "name 'tickername' is not defined",
     "output_type": "error",
     "traceback": [
      "\u001b[1;31m---------------------------------------------------------------------------\u001b[0m",
      "\u001b[1;31mNameError\u001b[0m                                 Traceback (most recent call last)",
      "\u001b[1;32m<ipython-input-3-06db522e0a39>\u001b[0m in \u001b[0;36m<module>\u001b[1;34m\u001b[0m\n\u001b[0;32m      1\u001b[0m \u001b[0mTickersDict\u001b[0m\u001b[1;33m=\u001b[0m \u001b[0mpd\u001b[0m\u001b[1;33m.\u001b[0m\u001b[0mDataFrame\u001b[0m\u001b[1;33m(\u001b[0m\u001b[0mpd\u001b[0m\u001b[1;33m.\u001b[0m\u001b[0mconcat\u001b[0m\u001b[1;33m(\u001b[0m\u001b[1;33m[\u001b[0m\u001b[0mpd\u001b[0m\u001b[1;33m.\u001b[0m\u001b[0mSeries\u001b[0m\u001b[1;33m(\u001b[0m\u001b[0mstonks\u001b[0m\u001b[1;33m.\u001b[0m\u001b[0msymbol\u001b[0m\u001b[1;33m.\u001b[0m\u001b[0mvalues\u001b[0m\u001b[1;33m)\u001b[0m\u001b[1;33m,\u001b[0m \u001b[0mpd\u001b[0m\u001b[1;33m.\u001b[0m\u001b[0mSeries\u001b[0m\u001b[1;33m(\u001b[0m\u001b[0mstonks\u001b[0m\u001b[1;33m.\u001b[0m\u001b[0mname\u001b[0m\u001b[1;33m.\u001b[0m\u001b[0mvalues\u001b[0m\u001b[1;33m)\u001b[0m\u001b[1;33m]\u001b[0m\u001b[1;33m,\u001b[0m\u001b[0maxis\u001b[0m\u001b[1;33m=\u001b[0m\u001b[1;36m1\u001b[0m\u001b[1;33m)\u001b[0m\u001b[1;33m)\u001b[0m\u001b[1;33m\u001b[0m\u001b[1;33m\u001b[0m\u001b[0m\n\u001b[0;32m      2\u001b[0m \u001b[0mTickersDict\u001b[0m\u001b[1;33m.\u001b[0m\u001b[0mcolumns\u001b[0m\u001b[1;33m=\u001b[0m \u001b[1;33m[\u001b[0m\u001b[1;34m'Ticker'\u001b[0m\u001b[1;33m,\u001b[0m \u001b[1;34m'InvName'\u001b[0m\u001b[1;33m]\u001b[0m\u001b[1;33m\u001b[0m\u001b[1;33m\u001b[0m\u001b[0m\n\u001b[1;32m----> 3\u001b[1;33m \u001b[0mTickersDict\u001b[0m\u001b[1;33m[\u001b[0m\u001b[1;34m'B3Name'\u001b[0m\u001b[1;33m]\u001b[0m\u001b[1;33m=\u001b[0m \u001b[0mtickername\u001b[0m\u001b[1;33m\u001b[0m\u001b[1;33m\u001b[0m\u001b[0m\n\u001b[0m\u001b[0;32m      4\u001b[0m \u001b[0mTickersDict\u001b[0m\u001b[1;33m=\u001b[0m \u001b[0mTickersDict\u001b[0m\u001b[1;33m.\u001b[0m\u001b[0mdrop\u001b[0m\u001b[1;33m(\u001b[0m\u001b[0mTickersDict\u001b[0m\u001b[1;33m.\u001b[0m\u001b[0mindex\u001b[0m\u001b[1;33m[\u001b[0m\u001b[0mTickersDict\u001b[0m\u001b[1;33m.\u001b[0m\u001b[0mB3Name\u001b[0m \u001b[1;33m==\u001b[0m \u001b[1;34m'_'\u001b[0m\u001b[1;33m]\u001b[0m\u001b[1;33m)\u001b[0m \u001b[1;31m#remove tickers sem nome no TradingView\u001b[0m\u001b[1;33m\u001b[0m\u001b[1;33m\u001b[0m\u001b[0m\n\u001b[0;32m      5\u001b[0m \u001b[1;31m# TickersDict.loc[TickersDict.B3Name != '_']\u001b[0m\u001b[1;33m\u001b[0m\u001b[1;33m\u001b[0m\u001b[1;33m\u001b[0m\u001b[0m\n",
      "\u001b[1;31mNameError\u001b[0m: name 'tickername' is not defined"
     ]
    }
   ],
   "source": [
    "TickersDict= pd.DataFrame(pd.concat([pd.Series(stonks.symbol.values), pd.Series(stonks.name.values)],axis=1))\n",
    "TickersDict.columns= ['Ticker', 'InvName']\n",
    "TickersDict['B3Name']= tickername\n",
    "TickersDict= TickersDict.drop(TickersDict.index[TickersDict.B3Name == '_']) #remove tickers sem nome no TradingView\n",
    "# TickersDict.loc[TickersDict.B3Name != '_']\n",
    "TickersDict['nosName']= TickersDict['B3Name'].str.replace(\" \",\"\") #cria coluna para nomes sem espaços para evitar problemas de concordancia de espacos\n",
    "\n",
    "TickersDict.head()\n"
   ]
  },
  {
   "cell_type": "code",
   "execution_count": 13,
   "metadata": {},
   "outputs": [],
   "source": [
    "#!!!keep commented unless you want to update the file!!!\n",
    "\n",
    "# TickersDict.to_csv('TickersDict.csv',index= False)"
   ]
  },
  {
   "cell_type": "markdown",
   "metadata": {},
   "source": [
    "# Após gerar o arquivo"
   ]
  },
  {
   "cell_type": "code",
   "execution_count": 4,
   "metadata": {},
   "outputs": [
    {
     "data": {
      "text/html": [
       "<div>\n",
       "<style scoped>\n",
       "    .dataframe tbody tr th:only-of-type {\n",
       "        vertical-align: middle;\n",
       "    }\n",
       "\n",
       "    .dataframe tbody tr th {\n",
       "        vertical-align: top;\n",
       "    }\n",
       "\n",
       "    .dataframe thead th {\n",
       "        text-align: right;\n",
       "    }\n",
       "</style>\n",
       "<table border=\"1\" class=\"dataframe\">\n",
       "  <thead>\n",
       "    <tr style=\"text-align: right;\">\n",
       "      <th></th>\n",
       "      <th>Ticker</th>\n",
       "      <th>InvName</th>\n",
       "      <th>B3Name</th>\n",
       "      <th>nosName</th>\n",
       "      <th>EDJ</th>\n",
       "      <th>ED</th>\n",
       "      <th>EJ</th>\n",
       "      <th>ONN</th>\n",
       "    </tr>\n",
       "  </thead>\n",
       "  <tbody>\n",
       "    <tr>\n",
       "      <th>0</th>\n",
       "      <td>ABCB4</td>\n",
       "      <td>ABC BRASIL PN</td>\n",
       "      <td>ABC BRASIL PN N2</td>\n",
       "      <td>ABCBRASILPNN2</td>\n",
       "      <td>ABCBRASILPNEDJN2</td>\n",
       "      <td>ABCBRASILPNEDN2</td>\n",
       "      <td>ABCBRASILPNEJN2</td>\n",
       "      <td>ABCBRASILPNN</td>\n",
       "    </tr>\n",
       "    <tr>\n",
       "      <th>1</th>\n",
       "      <td>AGRO3</td>\n",
       "      <td>BRASILAGRO ON</td>\n",
       "      <td>BRASILAGRO ON NM</td>\n",
       "      <td>BRASILAGROONNM</td>\n",
       "      <td>BRASILAGROONEDJNM</td>\n",
       "      <td>BRASILAGROONEDNM</td>\n",
       "      <td>BRASILAGROONEJNM</td>\n",
       "      <td>BRASILAGROONN</td>\n",
       "    </tr>\n",
       "    <tr>\n",
       "      <th>2</th>\n",
       "      <td>RAIL3</td>\n",
       "      <td>RUMO ON NM</td>\n",
       "      <td>RUMO S.A. ON NM</td>\n",
       "      <td>RUMOS.A.ONNM</td>\n",
       "      <td>RUMOS.A.ONEDJNM</td>\n",
       "      <td>RUMOS.A.ONEDNM</td>\n",
       "      <td>RUMOS.A.ONEJNM</td>\n",
       "      <td>RUMOS.A.ONN</td>\n",
       "    </tr>\n",
       "    <tr>\n",
       "      <th>3</th>\n",
       "      <td>ALPA3</td>\n",
       "      <td>ALPARGATAS ON</td>\n",
       "      <td>ALPARGATAS ON N1</td>\n",
       "      <td>ALPARGATASONN1</td>\n",
       "      <td>ALPARGATASONEDJN1</td>\n",
       "      <td>ALPARGATASONEDN1</td>\n",
       "      <td>ALPARGATASONEJN1</td>\n",
       "      <td>ALPARGATASONN</td>\n",
       "    </tr>\n",
       "    <tr>\n",
       "      <th>4</th>\n",
       "      <td>ALPA4</td>\n",
       "      <td>ALPARGATAS PN</td>\n",
       "      <td>ALPARGATAS PN N1</td>\n",
       "      <td>ALPARGATASPNN1</td>\n",
       "      <td>ALPARGATASPNEDJN1</td>\n",
       "      <td>ALPARGATASPNEDN1</td>\n",
       "      <td>ALPARGATASPNEJN1</td>\n",
       "      <td>ALPARGATASPNN</td>\n",
       "    </tr>\n",
       "  </tbody>\n",
       "</table>\n",
       "</div>"
      ],
      "text/plain": [
       "  Ticker        InvName            B3Name         nosName                EDJ  \\\n",
       "0  ABCB4  ABC BRASIL PN  ABC BRASIL PN N2   ABCBRASILPNN2   ABCBRASILPNEDJN2   \n",
       "1  AGRO3  BRASILAGRO ON  BRASILAGRO ON NM  BRASILAGROONNM  BRASILAGROONEDJNM   \n",
       "2  RAIL3     RUMO ON NM   RUMO S.A. ON NM    RUMOS.A.ONNM    RUMOS.A.ONEDJNM   \n",
       "3  ALPA3  ALPARGATAS ON  ALPARGATAS ON N1  ALPARGATASONN1  ALPARGATASONEDJN1   \n",
       "4  ALPA4  ALPARGATAS PN  ALPARGATAS PN N1  ALPARGATASPNN1  ALPARGATASPNEDJN1   \n",
       "\n",
       "                 ED                EJ            ONN  \n",
       "0   ABCBRASILPNEDN2   ABCBRASILPNEJN2   ABCBRASILPNN  \n",
       "1  BRASILAGROONEDNM  BRASILAGROONEJNM  BRASILAGROONN  \n",
       "2    RUMOS.A.ONEDNM    RUMOS.A.ONEJNM    RUMOS.A.ONN  \n",
       "3  ALPARGATASONEDN1  ALPARGATASONEJN1  ALPARGATASONN  \n",
       "4  ALPARGATASPNEDN1  ALPARGATASPNEJN1  ALPARGATASPNN  "
      ]
     },
     "execution_count": 4,
     "metadata": {},
     "output_type": "execute_result"
    }
   ],
   "source": [
    "TickersDict= pd.read_csv('TickersDict.csv')\n",
    "# TickersDict['nosName']= TickersDict['B3Name'].str.replace(\" \",\"\") #cria coluna para nomes sem espaços para evitar problemas de concordancia de espacos\n",
    "TickersDict['EDJ']= (TickersDict['B3Name'].str[:-2] + 'EDJ' + TickersDict['B3Name'].str[-2:]).str.replace(\" \",\"\") #cria coluna para nomes sem espaços para evitar problemas de concordancia de espacos\n",
    "TickersDict['ONN']= (TickersDict['B3Name'].str[:-2] + 'N').str.replace(\" \",\"\")  #cria coluna para nomes sem espaços para evitar problemas de concordancia de espacos\n",
    "TickersDict['EJ']= (TickersDict['B3Name'].str[:-2] + 'EJ' + TickersDict['B3Name'].str[-2:]).str.replace(\" \",\"\")  #cria coluna para nomes sem espaços para evitar problemas de concordancia de espacos\n",
    "\n",
    "TickersDict.head()"
   ]
  },
  {
   "cell_type": "code",
   "execution_count": 7,
   "metadata": {},
   "outputs": [],
   "source": [
    "TickersDict= TickersDict.drop(columns=['ED','EJ'])"
   ]
  },
  {
   "cell_type": "code",
   "execution_count": 8,
   "metadata": {},
   "outputs": [
    {
     "data": {
      "text/html": [
       "<div>\n",
       "<style scoped>\n",
       "    .dataframe tbody tr th:only-of-type {\n",
       "        vertical-align: middle;\n",
       "    }\n",
       "\n",
       "    .dataframe tbody tr th {\n",
       "        vertical-align: top;\n",
       "    }\n",
       "\n",
       "    .dataframe thead th {\n",
       "        text-align: right;\n",
       "    }\n",
       "</style>\n",
       "<table border=\"1\" class=\"dataframe\">\n",
       "  <thead>\n",
       "    <tr style=\"text-align: right;\">\n",
       "      <th></th>\n",
       "      <th>Ticker</th>\n",
       "      <th>InvName</th>\n",
       "      <th>B3Name</th>\n",
       "      <th>nosName</th>\n",
       "      <th>EDJ</th>\n",
       "      <th>ONN</th>\n",
       "    </tr>\n",
       "  </thead>\n",
       "  <tbody>\n",
       "    <tr>\n",
       "      <th>0</th>\n",
       "      <td>ABCB4</td>\n",
       "      <td>ABC BRASIL PN</td>\n",
       "      <td>ABC BRASIL PN N2</td>\n",
       "      <td>ABCBRASILPNN2</td>\n",
       "      <td>ABCBRASILPNEDJN2</td>\n",
       "      <td>ABCBRASILPNN</td>\n",
       "    </tr>\n",
       "    <tr>\n",
       "      <th>1</th>\n",
       "      <td>AGRO3</td>\n",
       "      <td>BRASILAGRO ON</td>\n",
       "      <td>BRASILAGRO ON NM</td>\n",
       "      <td>BRASILAGROONNM</td>\n",
       "      <td>BRASILAGROONEDJNM</td>\n",
       "      <td>BRASILAGROONN</td>\n",
       "    </tr>\n",
       "    <tr>\n",
       "      <th>2</th>\n",
       "      <td>RAIL3</td>\n",
       "      <td>RUMO ON NM</td>\n",
       "      <td>RUMO S.A. ON NM</td>\n",
       "      <td>RUMOS.A.ONNM</td>\n",
       "      <td>RUMOS.A.ONEDJNM</td>\n",
       "      <td>RUMOS.A.ONN</td>\n",
       "    </tr>\n",
       "    <tr>\n",
       "      <th>3</th>\n",
       "      <td>ALPA3</td>\n",
       "      <td>ALPARGATAS ON</td>\n",
       "      <td>ALPARGATAS ON N1</td>\n",
       "      <td>ALPARGATASONN1</td>\n",
       "      <td>ALPARGATASONEDJN1</td>\n",
       "      <td>ALPARGATASONN</td>\n",
       "    </tr>\n",
       "    <tr>\n",
       "      <th>4</th>\n",
       "      <td>ALPA4</td>\n",
       "      <td>ALPARGATAS PN</td>\n",
       "      <td>ALPARGATAS PN N1</td>\n",
       "      <td>ALPARGATASPNN1</td>\n",
       "      <td>ALPARGATASPNEDJN1</td>\n",
       "      <td>ALPARGATASPNN</td>\n",
       "    </tr>\n",
       "  </tbody>\n",
       "</table>\n",
       "</div>"
      ],
      "text/plain": [
       "  Ticker        InvName            B3Name         nosName                EDJ  \\\n",
       "0  ABCB4  ABC BRASIL PN  ABC BRASIL PN N2   ABCBRASILPNN2   ABCBRASILPNEDJN2   \n",
       "1  AGRO3  BRASILAGRO ON  BRASILAGRO ON NM  BRASILAGROONNM  BRASILAGROONEDJNM   \n",
       "2  RAIL3     RUMO ON NM   RUMO S.A. ON NM    RUMOS.A.ONNM    RUMOS.A.ONEDJNM   \n",
       "3  ALPA3  ALPARGATAS ON  ALPARGATAS ON N1  ALPARGATASONN1  ALPARGATASONEDJN1   \n",
       "4  ALPA4  ALPARGATAS PN  ALPARGATAS PN N1  ALPARGATASPNN1  ALPARGATASPNEDJN1   \n",
       "\n",
       "             ONN  \n",
       "0   ABCBRASILPNN  \n",
       "1  BRASILAGROONN  \n",
       "2    RUMOS.A.ONN  \n",
       "3  ALPARGATASONN  \n",
       "4  ALPARGATASPNN  "
      ]
     },
     "execution_count": 8,
     "metadata": {},
     "output_type": "execute_result"
    }
   ],
   "source": [
    "TickersDict.head()"
   ]
  },
  {
   "cell_type": "code",
   "execution_count": 21,
   "metadata": {},
   "outputs": [],
   "source": [
    "#convert 2 pandas series to dictionary\n",
    "\n",
    "# pd.Series(TickersDict.InvName.values,index=TickersDict.Ticker).to_dict()"
   ]
  },
  {
   "cell_type": "code",
   "execution_count": 9,
   "metadata": {},
   "outputs": [],
   "source": [
    "tickerdict= {}\n",
    "for index, row in TickersDict.iterrows():\n",
    "    tickerdict[row['InvName']]= row['Ticker']\n",
    "    tickerdict[row['B3Name']]= row['Ticker']\n",
    "    tickerdict[row['nosName']]= row['Ticker']\n",
    "    tickerdict[row['EDJ']]= row['Ticker']\n",
    "#     tickerdict[row['ED']]= row['Ticker']\n",
    "#     tickerdict[row['EJ']]= row['Ticker']\n",
    "    tickerdict[row['ONN']]= row['Ticker']\n",
    "    tickerdict[row['Ticker']]= row['Ticker']\n",
    "    \n",
    "# for index, row in TickersDict.iterrows():\n",
    "#     dictionary[row['Ticker']]= row['InvName'], row['B3Name'], row['nosName']    "
   ]
  },
  {
   "cell_type": "code",
   "execution_count": 11,
   "metadata": {},
   "outputs": [
    {
     "name": "stdout",
     "output_type": "stream",
     "text": [
      "BBDC4\n"
     ]
    }
   ],
   "source": [
    "print(tickerdict['BRADESCOPNN'.replace(\" \", \"\")])"
   ]
  },
  {
   "cell_type": "code",
   "execution_count": 12,
   "metadata": {},
   "outputs": [
    {
     "data": {
      "text/plain": [
       "'GERDAU PN N1'"
      ]
     },
     "execution_count": 12,
     "metadata": {},
     "output_type": "execute_result"
    }
   ],
   "source": [
    "def getkey(dictionary, item_str):\n",
    "    for key, item in dictionary.items():\n",
    "        if item_str in item:\n",
    "            return key\n",
    "    return print('Key not found')\n",
    "        \n",
    "getkey(tickerdict, 'GGBR4')   "
   ]
  },
  {
   "cell_type": "code",
   "execution_count": 24,
   "metadata": {},
   "outputs": [],
   "source": [
    "# print(soup)"
   ]
  },
  {
   "cell_type": "code",
   "execution_count": null,
   "metadata": {},
   "outputs": [],
   "source": [
    "#maybe use mechanize if needed?\n",
    "\n",
    "# import mechanize \n",
    "# br = mechanize.Browser()\n",
    "# br.set_handle_robots(False)\n",
    "# reqtxt= br.open(tradingview)\n",
    "# soup= BeautifulSoup(reqtxt, 'lxml')\n"
   ]
  }
 ],
 "metadata": {
  "kernelspec": {
   "display_name": "Python 3",
   "language": "python",
   "name": "python3"
  },
  "language_info": {
   "codemirror_mode": {
    "name": "ipython",
    "version": 3
   },
   "file_extension": ".py",
   "mimetype": "text/x-python",
   "name": "python",
   "nbconvert_exporter": "python",
   "pygments_lexer": "ipython3",
   "version": "3.7.9"
  }
 },
 "nbformat": 4,
 "nbformat_minor": 4
}
